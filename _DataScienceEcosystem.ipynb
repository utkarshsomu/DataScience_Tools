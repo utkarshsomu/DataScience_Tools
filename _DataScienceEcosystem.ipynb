{
 "cells": [
  {
   "cell_type": "markdown",
   "id": "a8f7ba3d",
   "metadata": {},
   "source": [
    "Data Science Tools And Ecosystem\n",
    "--------------------------------------------------"
   ]
  },
  {
   "cell_type": "markdown",
   "id": "3d4839ac",
   "metadata": {},
   "source": [
    "In this notebook, Data Science Tools and Ecosystem are summarized.\n"
   ]
  },
  {
   "cell_type": "markdown",
   "id": "bc18d213",
   "metadata": {},
   "source": [
    "**Some of the popular languages that Data Scientists use are:**\n",
    "\n",
    "     1.Pyhon\n",
    "     2.R\n",
    "     3.SQL\n",
    "     4.Java"
   ]
  },
  {
   "cell_type": "markdown",
   "id": "d97c742e",
   "metadata": {},
   "source": [
    "**Some of the commonly used libraries used by Data Scientists include:**\n",
    "\n",
    "    1.TensorFlow\n",
    "    2.NumPy\n",
    "    3.SciPy\n",
    "    4.Pandas\n",
    "    5.PyTorch\n",
    "    6.Keras\n"
   ]
  },
  {
   "cell_type": "markdown",
   "id": "ef62e0a2",
   "metadata": {},
   "source": [
    "**Data Science Tools**\n",
    "______________________\n",
    "         \n",
    "        \n",
    "   | Jupyter      |\n",
    "    ------------------------\n",
    "   |Apache Spark |\n",
    "    ------------------------\n",
    "   | SAAS         |\n",
    "    ------------------------"
   ]
  },
  {
   "cell_type": "markdown",
   "id": "dd45a36b",
   "metadata": {},
   "source": [
    "   **introducing arithmetic expression examples**\n",
    "    \n",
    "\n",
    "Below are a few examples of evaluating arithmetic expressions in Python.\n",
    "       "
   ]
  },
  {
   "cell_type": "code",
   "execution_count": 3,
   "id": "9213300e",
   "metadata": {},
   "outputs": [
    {
     "name": "stdout",
     "output_type": "stream",
     "text": [
      "17\n"
     ]
    }
   ],
   "source": [
    "print(3*4+5)"
   ]
  },
  {
   "cell_type": "code",
   "execution_count": 5,
   "id": "eefa55da",
   "metadata": {},
   "outputs": [
    {
     "name": "stdout",
     "output_type": "stream",
     "text": [
      "3:20\n"
     ]
    }
   ],
   "source": [
    "#This will convert 200 minutes to hours by diving by 60\n",
    "total_minutes=200\n",
    "hours = total_minutes // 60\n",
    "minutes = total_minutes % 60\n",
    "time = \"{}:{}\".format(hours,minutes)\n",
    "print(time)"
   ]
  },
  {
   "cell_type": "markdown",
   "id": "4b76a2b2",
   "metadata": {},
   "source": [
    "   **OBJECTIVES**\n",
    "   \n",
    "   1.Some Popular Languages OF Data Science\n",
    "   \n",
    "   2.Libraries Used In Data Science\n",
    "   \n",
    "   2.Tools Used In Data Science\n",
    "   \n",
    "   4.Arithmetic Examples\n",
    "        "
   ]
  },
  {
   "cell_type": "markdown",
   "id": "b919efb2",
   "metadata": {},
   "source": [
    "**Author**\n",
    "\n",
    "Utkarsh"
   ]
  }
 ],
 "metadata": {
  "kernelspec": {
   "display_name": "Python 3 (ipykernel)",
   "language": "python",
   "name": "python3"
  },
  "language_info": {
   "codemirror_mode": {
    "name": "ipython",
    "version": 3
   },
   "file_extension": ".py",
   "mimetype": "text/x-python",
   "name": "python",
   "nbconvert_exporter": "python",
   "pygments_lexer": "ipython3",
   "version": "3.10.10"
  }
 },
 "nbformat": 4,
 "nbformat_minor": 5
}
